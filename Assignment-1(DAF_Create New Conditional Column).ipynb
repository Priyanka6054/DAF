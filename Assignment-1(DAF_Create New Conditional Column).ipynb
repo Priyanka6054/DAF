{
 "cells": [
  {
   "cell_type": "markdown",
   "id": "eacfda64",
   "metadata": {},
   "source": [
    "# Create New Cond Col"
   ]
  },
  {
   "cell_type": "code",
   "execution_count": null,
   "id": "aa42cd5c",
   "metadata": {},
   "outputs": [],
   "source": [
    "# surcharge \n",
    "# if ship_mode = \"Same Day\" then 20% or 0.2\n",
    "# else if ship_mode = \"First Class\" then 10% or 0.1\n",
    "# else if ship_mode = \"Standard Class\" then 5% or 0.5\n",
    "# else 0\n",
    "# total cost = (sales - profit ) * ( 1 + surcharge )"
   ]
  },
  {
   "cell_type": "code",
   "execution_count": 1,
   "id": "4e418f65",
   "metadata": {},
   "outputs": [
    {
     "name": "stdout",
     "output_type": "stream",
     "text": [
      "Surcharge: 0.2\n",
      "Total Cost: 96.0\n"
     ]
    }
   ],
   "source": [
    "# Define a function to calculate surcharge based on ship_mode\n",
    "\n",
    "def calculate_surcharge(ship_mode):\n",
    "    if ship_mode == \"Same Day\":\n",
    "        return 0.2\n",
    "    elif ship_mode == \"First Class\":\n",
    "        return 0.1\n",
    "    elif ship_mode == \"Standard Class\":\n",
    "        return 0.05\n",
    "    else:\n",
    "        return 0\n",
    "\n",
    "# Example data\n",
    "ship_mode = \"Same Day\"  # Example ship_mode value, replace it with your actual data\n",
    "\n",
    "# Calculate surcharge based on ship_mode\n",
    "surcharge = calculate_surcharge(ship_mode)\n",
    "\n",
    "# Calculate total cost\n",
    "sales = 100  # Example sales value, replace it with your actual data\n",
    "profit = 20   # Example profit value, replace it with your actual data\n",
    "total_cost = (sales - profit) * (1 + surcharge)\n",
    "\n",
    "print(\"Surcharge:\", surcharge)\n",
    "print(\"Total Cost:\", total_cost)\n"
   ]
  },
  {
   "cell_type": "code",
   "execution_count": null,
   "id": "cb39797b",
   "metadata": {},
   "outputs": [],
   "source": []
  },
  {
   "cell_type": "code",
   "execution_count": null,
   "id": "497fc83f",
   "metadata": {},
   "outputs": [],
   "source": []
  }
 ],
 "metadata": {
  "kernelspec": {
   "display_name": "Python 3 (ipykernel)",
   "language": "python",
   "name": "python3"
  },
  "language_info": {
   "codemirror_mode": {
    "name": "ipython",
    "version": 3
   },
   "file_extension": ".py",
   "mimetype": "text/x-python",
   "name": "python",
   "nbconvert_exporter": "python",
   "pygments_lexer": "ipython3",
   "version": "3.11.4"
  }
 },
 "nbformat": 4,
 "nbformat_minor": 5
}
